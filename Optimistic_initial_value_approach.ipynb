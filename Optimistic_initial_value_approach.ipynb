{
  "nbformat": 4,
  "nbformat_minor": 0,
  "metadata": {
    "colab": {
      "provenance": [],
      "authorship_tag": "ABX9TyPIP7uWsTLzGImP85/aocVQ",
      "include_colab_link": true
    },
    "kernelspec": {
      "name": "python3",
      "display_name": "Python 3"
    },
    "language_info": {
      "name": "python"
    }
  },
  "cells": [
    {
      "cell_type": "markdown",
      "metadata": {
        "id": "view-in-github",
        "colab_type": "text"
      },
      "source": [
        "<a href=\"https://colab.research.google.com/github/PuruBhatnagar1197/ABtesting/blob/main/Optimistic_initial_value_approach.ipynb\" target=\"_parent\"><img src=\"https://colab.research.google.com/assets/colab-badge.svg\" alt=\"Open In Colab\"/></a>"
      ]
    },
    {
      "cell_type": "code",
      "execution_count": 1,
      "metadata": {
        "id": "u5b5lzGBTxeZ"
      },
      "outputs": [],
      "source": [
        "import pandas as pd\n",
        "import numpy as np\n",
        "import matplotlib.pyplot as plt"
      ]
    },
    {
      "cell_type": "code",
      "source": [
        "num_of_exp=10000\n",
        "eps=0.05\n",
        "bandit_true_probab=[0.2,0.5,0.7]"
      ],
      "metadata": {
        "id": "3B8xKyKwT9ym"
      },
      "execution_count": 2,
      "outputs": []
    },
    {
      "cell_type": "code",
      "source": [
        "class BanditArm:\n",
        "    def __init__(self,p):\n",
        "        self.p=p\n",
        "        self.p_estimate=5\n",
        "        self.N=1\n",
        "    def pull(self):\n",
        "        return np.random.randn()<self.p\n",
        "    def update(self,x):\n",
        "        self.N+=1\n",
        "        self.p_estimate=((self.N-1)*self.p_estimate+x)/self.N"
      ],
      "metadata": {
        "id": "FtWzxnpcUGWX"
      },
      "execution_count": 3,
      "outputs": []
    },
    {
      "cell_type": "code",
      "source": [
        "def experiment():\n",
        "    bandit=[BanditArm(p) for p in bandit_true_probab]\n",
        "    reward=np.zeros(num_of_exp)\n",
        "    for i in range (num_of_exp):\n",
        "        j=np.argmax([b.p_estimate for b in bandit])\n",
        "\n",
        "        x=bandit[j].pull()\n",
        "        reward[i]=x\n",
        "        bandit[j].update(x)\n",
        "\n",
        "    for b in bandit:\n",
        "        print(\"estimated_params: \", b.p_estimate)\n",
        "    print(\"total reward earned:\", reward.sum())\n",
        "    print(\"overall win rate:\", reward.sum() / num_of_exp)\n",
        "    print(\"number of trials in badit: \", [b.N for b in bandit])\n",
        "    cumulative_rewards = np.cumsum(reward)\n",
        "    win_rates = cumulative_rewards / (np.arange(num_of_exp) + 1)\n",
        "    plt.ylim([0, 1])\n",
        "    plt.plot(win_rates)\n",
        "    plt.plot(np.ones(num_of_exp)*np.max(bandit_true_probab))\n",
        "    plt.show()\n",
        "\n",
        "\n"
      ],
      "metadata": {
        "id": "GJvWcRJTWkN3"
      },
      "execution_count": 7,
      "outputs": []
    },
    {
      "cell_type": "code",
      "source": [
        "experiment()"
      ],
      "metadata": {
        "colab": {
          "base_uri": "https://localhost:8080/",
          "height": 539
        },
        "id": "q-AvgJG6WkKi",
        "outputId": "5d68b078-dcc5-4a87-cae4-f2cdebab54aa"
      },
      "execution_count": 8,
      "outputs": [
        {
          "output_type": "stream",
          "name": "stdout",
          "text": [
            "estimated_params:  0.7272727272727273\n",
            "estimated_params:  0.7380952380952381\n",
            "estimated_params:  0.754029008863817\n",
            "total reward earned: 7526.0\n",
            "overall win rate: 0.7526\n",
            "number of trials in badit:  [33, 42, 9928]\n"
          ]
        },
        {
          "output_type": "display_data",
          "data": {
            "text/plain": [
              "<Figure size 640x480 with 1 Axes>"
            ],
            "image/png": "[encoded data removed]"
          },
          "metadata": {}
        }
      ]
    },
    {
      "cell_type": "code",
      "source": [],
      "metadata": {
        "id": "whF7nj3DWj1X"
      },
      "execution_count": null,
      "outputs": []
    },
    {
      "cell_type": "code",
      "source": [],
      "metadata": {
        "id": "RCl2CK0yWjxy"
      },
      "execution_count": null,
      "outputs": []
    },
    {
      "cell_type": "code",
      "source": [],
      "metadata": {
        "id": "WK0yyKaLWjuk"
      },
      "execution_count": null,
      "outputs": []
    },
    {
      "cell_type": "code",
      "source": [],
      "metadata": {
        "id": "aaEHoC7-Wjrr"
      },
      "execution_count": null,
      "outputs": []
    },
    {
      "cell_type": "code",
      "source": [],
      "metadata": {
        "id": "zqQKU7ssWjo8"
      },
      "execution_count": null,
      "outputs": []
    },
    {
      "cell_type": "code",
      "source": [],
      "metadata": {
        "id": "B5X6ZWOfWjmg"
      },
      "execution_count": null,
      "outputs": []
    },
    {
      "cell_type": "code",
      "source": [],
      "metadata": {
        "id": "p69RkNPcWjj8"
      },
      "execution_count": null,
      "outputs": []
    },
    {
      "cell_type": "code",
      "source": [],
      "metadata": {
        "id": "uIegcCR-Wjhy"
      },
      "execution_count": null,
      "outputs": []
    },
    {
      "cell_type": "code",
      "source": [],
      "metadata": {
        "id": "btHTIONPWjfc"
      },
      "execution_count": null,
      "outputs": []
    },
    {
      "cell_type": "code",
      "source": [],
      "metadata": {
        "id": "pfWmafG5WjdR"
      },
      "execution_count": null,
      "outputs": []
    },
    {
      "cell_type": "code",
      "source": [],
      "metadata": {
        "id": "KASLGj36Wjay"
      },
      "execution_count": null,
      "outputs": []
    },
    {
      "cell_type": "code",
      "source": [],
      "metadata": {
        "id": "UmeuGOubWjYm"
      },
      "execution_count": null,
      "outputs": []
    }
  ]
}